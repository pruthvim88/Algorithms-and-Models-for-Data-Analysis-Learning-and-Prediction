{
 "cells": [
  {
   "cell_type": "markdown",
   "metadata": {},
   "source": [
    "# K-nn classification with credit data"
   ]
  },
  {
   "cell_type": "code",
   "execution_count": 1,
   "metadata": {
    "collapsed": true
   },
   "outputs": [],
   "source": [
    "library(class)"
   ]
  },
  {
   "cell_type": "code",
   "execution_count": 2,
   "metadata": {
    "collapsed": true
   },
   "outputs": [],
   "source": [
    "gcdata <- read.csv(\"german_credit_data1.csv\")\n",
    "gcdata$Credit.Risks.Label <- factor(gcdata$Credit.Risks, label=c(\"High\",\"low\"))"
   ]
  },
  {
   "cell_type": "code",
   "execution_count": 3,
   "metadata": {
    "collapsed": false
   },
   "outputs": [
    {
     "data": {
      "text/html": [
       "<table>\n",
       "<thead><tr><th scope=col>X.</th><th scope=col>Age</th><th scope=col>Sex</th><th scope=col>Job</th><th scope=col>Housing</th><th scope=col>Saving.accounts</th><th scope=col>Checking.account</th><th scope=col>Credit.amount</th><th scope=col>Duration</th><th scope=col>Purpose</th><th scope=col>Credit.Risks</th><th scope=col>Credit.Risks.Label</th></tr></thead>\n",
       "<tbody>\n",
       "\t<tr><td>0                  </td><td>67                 </td><td>male               </td><td>2                  </td><td>own                </td><td>NA                 </td><td>little             </td><td>1169               </td><td> 6                 </td><td>radio/TV           </td><td>1                  </td><td>High               </td></tr>\n",
       "\t<tr><td>1                  </td><td>22                 </td><td>female             </td><td>2                  </td><td>own                </td><td>little             </td><td>moderate           </td><td>5951               </td><td>48                 </td><td>radio/TV           </td><td>2                  </td><td>low                </td></tr>\n",
       "\t<tr><td>2                  </td><td>49                 </td><td>male               </td><td>1                  </td><td>own                </td><td>little             </td><td>NA                 </td><td>2096               </td><td>12                 </td><td>education          </td><td>1                  </td><td>High               </td></tr>\n",
       "\t<tr><td>3                  </td><td>45                 </td><td>male               </td><td>2                  </td><td>free               </td><td>little             </td><td>little             </td><td>7882               </td><td>42                 </td><td>furniture/equipment</td><td>1                  </td><td>High               </td></tr>\n",
       "\t<tr><td>4                  </td><td>53                 </td><td>male               </td><td>2                  </td><td>free               </td><td>little             </td><td>little             </td><td>4870               </td><td>24                 </td><td>car                </td><td>2                  </td><td>low                </td></tr>\n",
       "\t<tr><td>5                  </td><td>35                 </td><td>male               </td><td>1                  </td><td>free               </td><td>NA                 </td><td>NA                 </td><td>9055               </td><td>36                 </td><td>education          </td><td>1                  </td><td>High               </td></tr>\n",
       "</tbody>\n",
       "</table>\n"
      ],
      "text/latex": [
       "\\begin{tabular}{r|llllllllllll}\n",
       " X. & Age & Sex & Job & Housing & Saving.accounts & Checking.account & Credit.amount & Duration & Purpose & Credit.Risks & Credit.Risks.Label\\\\\n",
       "\\hline\n",
       "\t 0                   & 67                  & male                & 2                   & own                 & NA                  & little              & 1169                &  6                  & radio/TV            & 1                   & High               \\\\\n",
       "\t 1                   & 22                  & female              & 2                   & own                 & little              & moderate            & 5951                & 48                  & radio/TV            & 2                   & low                \\\\\n",
       "\t 2                   & 49                  & male                & 1                   & own                 & little              & NA                  & 2096                & 12                  & education           & 1                   & High               \\\\\n",
       "\t 3                   & 45                  & male                & 2                   & free                & little              & little              & 7882                & 42                  & furniture/equipment & 1                   & High               \\\\\n",
       "\t 4                   & 53                  & male                & 2                   & free                & little              & little              & 4870                & 24                  & car                 & 2                   & low                \\\\\n",
       "\t 5                   & 35                  & male                & 1                   & free                & NA                  & NA                  & 9055                & 36                  & education           & 1                   & High               \\\\\n",
       "\\end{tabular}\n"
      ],
      "text/markdown": [
       "\n",
       "X. | Age | Sex | Job | Housing | Saving.accounts | Checking.account | Credit.amount | Duration | Purpose | Credit.Risks | Credit.Risks.Label | \n",
       "|---|---|---|---|---|---|\n",
       "| 0                   | 67                  | male                | 2                   | own                 | NA                  | little              | 1169                |  6                  | radio/TV            | 1                   | High                | \n",
       "| 1                   | 22                  | female              | 2                   | own                 | little              | moderate            | 5951                | 48                  | radio/TV            | 2                   | low                 | \n",
       "| 2                   | 49                  | male                | 1                   | own                 | little              | NA                  | 2096                | 12                  | education           | 1                   | High                | \n",
       "| 3                   | 45                  | male                | 2                   | free                | little              | little              | 7882                | 42                  | furniture/equipment | 1                   | High                | \n",
       "| 4                   | 53                  | male                | 2                   | free                | little              | little              | 4870                | 24                  | car                 | 2                   | low                 | \n",
       "| 5                   | 35                  | male                | 1                   | free                | NA                  | NA                  | 9055                | 36                  | education           | 1                   | High                | \n",
       "\n",
       "\n"
      ],
      "text/plain": [
       "  X. Age Sex    Job Housing Saving.accounts Checking.account Credit.amount\n",
       "1 0  67  male   2   own     NA              little           1169         \n",
       "2 1  22  female 2   own     little          moderate         5951         \n",
       "3 2  49  male   1   own     little          NA               2096         \n",
       "4 3  45  male   2   free    little          little           7882         \n",
       "5 4  53  male   2   free    little          little           4870         \n",
       "6 5  35  male   1   free    NA              NA               9055         \n",
       "  Duration Purpose             Credit.Risks Credit.Risks.Label\n",
       "1  6       radio/TV            1            High              \n",
       "2 48       radio/TV            2            low               \n",
       "3 12       education           1            High              \n",
       "4 42       furniture/equipment 1            High              \n",
       "5 24       car                 2            low               \n",
       "6 36       education           1            High              "
      ]
     },
     "metadata": {},
     "output_type": "display_data"
    }
   ],
   "source": [
    "head(gcdata)"
   ]
  },
  {
   "cell_type": "code",
   "execution_count": 4,
   "metadata": {
    "collapsed": false
   },
   "outputs": [
    {
     "data": {
      "text/html": [
       "<table>\n",
       "<thead><tr><th scope=col>X.</th><th scope=col>Age</th><th scope=col>Sex</th><th scope=col>Job</th><th scope=col>Housing</th><th scope=col>Saving.accounts</th><th scope=col>Checking.account</th><th scope=col>Credit.amount</th><th scope=col>Duration</th><th scope=col>Purpose</th><th scope=col>Credit.Risks</th><th scope=col>Credit.Risks.Label</th></tr></thead>\n",
       "<tbody>\n",
       "\t<tr><td>0         </td><td>0.85714286</td><td>1         </td><td>0.6666667 </td><td>0.5       </td><td>0.00      </td><td>0.3333333 </td><td>0.05056674</td><td>0.02941176</td><td>0.7142857 </td><td>1         </td><td>High      </td></tr>\n",
       "\t<tr><td>1         </td><td>0.05357143</td><td>0         </td><td>0.6666667 </td><td>0.5       </td><td>0.25      </td><td>0.6666667 </td><td>0.31368989</td><td>0.64705882</td><td>0.7142857 </td><td>2         </td><td>low       </td></tr>\n",
       "\t<tr><td>2         </td><td>0.53571429</td><td>1         </td><td>0.3333333 </td><td>0.5       </td><td>0.25      </td><td>0.0000000 </td><td>0.10157368</td><td>0.11764706</td><td>0.4285714 </td><td>1         </td><td>High      </td></tr>\n",
       "\t<tr><td>3         </td><td>0.46428571</td><td>1         </td><td>0.6666667 </td><td>0.0       </td><td>0.25      </td><td>0.3333333 </td><td>0.41994057</td><td>0.55882353</td><td>0.5714286 </td><td>1         </td><td>High      </td></tr>\n",
       "\t<tr><td>4         </td><td>0.60714286</td><td>1         </td><td>0.6666667 </td><td>0.0       </td><td>0.25      </td><td>0.3333333 </td><td>0.25420931</td><td>0.29411765</td><td>0.1428571 </td><td>2         </td><td>low       </td></tr>\n",
       "\t<tr><td>5         </td><td>0.28571429</td><td>1         </td><td>0.3333333 </td><td>0.0       </td><td>0.00      </td><td>0.0000000 </td><td>0.48448333</td><td>0.47058824</td><td>0.4285714 </td><td>1         </td><td>High      </td></tr>\n",
       "</tbody>\n",
       "</table>\n"
      ],
      "text/latex": [
       "\\begin{tabular}{r|llllllllllll}\n",
       " X. & Age & Sex & Job & Housing & Saving.accounts & Checking.account & Credit.amount & Duration & Purpose & Credit.Risks & Credit.Risks.Label\\\\\n",
       "\\hline\n",
       "\t 0          & 0.85714286 & 1          & 0.6666667  & 0.5        & 0.00       & 0.3333333  & 0.05056674 & 0.02941176 & 0.7142857  & 1          & High      \\\\\n",
       "\t 1          & 0.05357143 & 0          & 0.6666667  & 0.5        & 0.25       & 0.6666667  & 0.31368989 & 0.64705882 & 0.7142857  & 2          & low       \\\\\n",
       "\t 2          & 0.53571429 & 1          & 0.3333333  & 0.5        & 0.25       & 0.0000000  & 0.10157368 & 0.11764706 & 0.4285714  & 1          & High      \\\\\n",
       "\t 3          & 0.46428571 & 1          & 0.6666667  & 0.0        & 0.25       & 0.3333333  & 0.41994057 & 0.55882353 & 0.5714286  & 1          & High      \\\\\n",
       "\t 4          & 0.60714286 & 1          & 0.6666667  & 0.0        & 0.25       & 0.3333333  & 0.25420931 & 0.29411765 & 0.1428571  & 2          & low       \\\\\n",
       "\t 5          & 0.28571429 & 1          & 0.3333333  & 0.0        & 0.00       & 0.0000000  & 0.48448333 & 0.47058824 & 0.4285714  & 1          & High      \\\\\n",
       "\\end{tabular}\n"
      ],
      "text/markdown": [
       "\n",
       "X. | Age | Sex | Job | Housing | Saving.accounts | Checking.account | Credit.amount | Duration | Purpose | Credit.Risks | Credit.Risks.Label | \n",
       "|---|---|---|---|---|---|\n",
       "| 0          | 0.85714286 | 1          | 0.6666667  | 0.5        | 0.00       | 0.3333333  | 0.05056674 | 0.02941176 | 0.7142857  | 1          | High       | \n",
       "| 1          | 0.05357143 | 0          | 0.6666667  | 0.5        | 0.25       | 0.6666667  | 0.31368989 | 0.64705882 | 0.7142857  | 2          | low        | \n",
       "| 2          | 0.53571429 | 1          | 0.3333333  | 0.5        | 0.25       | 0.0000000  | 0.10157368 | 0.11764706 | 0.4285714  | 1          | High       | \n",
       "| 3          | 0.46428571 | 1          | 0.6666667  | 0.0        | 0.25       | 0.3333333  | 0.41994057 | 0.55882353 | 0.5714286  | 1          | High       | \n",
       "| 4          | 0.60714286 | 1          | 0.6666667  | 0.0        | 0.25       | 0.3333333  | 0.25420931 | 0.29411765 | 0.1428571  | 2          | low        | \n",
       "| 5          | 0.28571429 | 1          | 0.3333333  | 0.0        | 0.00       | 0.0000000  | 0.48448333 | 0.47058824 | 0.4285714  | 1          | High       | \n",
       "\n",
       "\n"
      ],
      "text/plain": [
       "  X. Age        Sex Job       Housing Saving.accounts Checking.account\n",
       "1 0  0.85714286 1   0.6666667 0.5     0.00            0.3333333       \n",
       "2 1  0.05357143 0   0.6666667 0.5     0.25            0.6666667       \n",
       "3 2  0.53571429 1   0.3333333 0.5     0.25            0.0000000       \n",
       "4 3  0.46428571 1   0.6666667 0.0     0.25            0.3333333       \n",
       "5 4  0.60714286 1   0.6666667 0.0     0.25            0.3333333       \n",
       "6 5  0.28571429 1   0.3333333 0.0     0.00            0.0000000       \n",
       "  Credit.amount Duration   Purpose   Credit.Risks Credit.Risks.Label\n",
       "1 0.05056674    0.02941176 0.7142857 1            High              \n",
       "2 0.31368989    0.64705882 0.7142857 2            low               \n",
       "3 0.10157368    0.11764706 0.4285714 1            High              \n",
       "4 0.41994057    0.55882353 0.5714286 1            High              \n",
       "5 0.25420931    0.29411765 0.1428571 2            low               \n",
       "6 0.48448333    0.47058824 0.4285714 1            High              "
      ]
     },
     "metadata": {},
     "output_type": "display_data"
    }
   ],
   "source": [
    "gcdata.df <- as.data.frame(gcdata)\n",
    "normalize <- function(x){return ((x-min(x))/(max(x)-min(x)))}\n",
    "for(i in 2:10){\n",
    "    gcdata.df[,i] <- as.numeric(gcdata.df[,i])\n",
    "    gcdata.df[,i][is.na(gcdata.df[,i])] <- 0\n",
    "    gcdata.df[,i] <- normalize(gcdata.df[,i])\n",
    "}\n",
    "head(gcdata.df)"
   ]
  },
  {
   "cell_type": "code",
   "execution_count": 5,
   "metadata": {
    "collapsed": false
   },
   "outputs": [
    {
     "data": {
      "text/plain": [
       "       X.             Age              Sex            Job        \n",
       " Min.   :  0.0   Min.   :0.0000   Min.   :0.00   Min.   :0.0000  \n",
       " 1st Qu.:249.8   1st Qu.:0.1429   1st Qu.:0.00   1st Qu.:0.6667  \n",
       " Median :499.5   Median :0.2500   Median :1.00   Median :0.6667  \n",
       " Mean   :499.5   Mean   :0.2955   Mean   :0.69   Mean   :0.6347  \n",
       " 3rd Qu.:749.2   3rd Qu.:0.4107   3rd Qu.:1.00   3rd Qu.:0.6667  \n",
       " Max.   :999.0   Max.   :1.0000   Max.   :1.00   Max.   :1.0000  \n",
       "    Housing       Saving.accounts  Checking.account Credit.amount    \n",
       " Min.   :0.0000   Min.   :0.0000   Min.   :0.0000   Min.   :0.00000  \n",
       " 1st Qu.:0.5000   1st Qu.:0.2500   1st Qu.:0.0000   1st Qu.:0.06138  \n",
       " Median :0.5000   Median :0.2500   Median :0.3333   Median :0.11387  \n",
       " Mean   :0.5355   Mean   :0.2975   Mean   :0.3337   Mean   :0.16624  \n",
       " 3rd Qu.:0.5000   3rd Qu.:0.2500   3rd Qu.:0.6667   3rd Qu.:0.20481  \n",
       " Max.   :1.0000   Max.   :1.0000   Max.   :1.0000   Max.   :1.00000  \n",
       "    Duration         Purpose        Credit.Risks Credit.Risks.Label\n",
       " Min.   :0.0000   Min.   :0.0000   Min.   :1.0   High:700          \n",
       " 1st Qu.:0.1176   1st Qu.:0.1429   1st Qu.:1.0   low :300          \n",
       " Median :0.2059   Median :0.4286   Median :1.0                     \n",
       " Mean   :0.2486   Mean   :0.4111   Mean   :1.3                     \n",
       " 3rd Qu.:0.2941   3rd Qu.:0.7143   3rd Qu.:2.0                     \n",
       " Max.   :1.0000   Max.   :1.0000   Max.   :2.0                     "
      ]
     },
     "metadata": {},
     "output_type": "display_data"
    }
   ],
   "source": [
    "summary(gcdata.df)"
   ]
  },
  {
   "cell_type": "code",
   "execution_count": 6,
   "metadata": {
    "collapsed": false
   },
   "outputs": [],
   "source": [
    "count <- nrow(gcdata.df)\n",
    "misclassificationRate <- matrix(nrow=20, ncol=5)\n",
    "sampling.rate <- c(0.9,0.8,0.7,0.6,0.5)\n",
    "for(i in 1:5){\n",
    "    test.labels<- count*(1-sampling.rate[i])\n",
    "    training<-sample(1:count, sampling.rate[i]*count, replace=FALSE)\n",
    "    train<-subset(gcdata.df[training,], select=c(Age,Sex,Job,Housing,Saving.accounts,Checking.account,Credit.amount,Duration,Purpose))\n",
    "    testing<-setdiff(1:count,training)\n",
    "    test<-subset(gcdata.df[testing,], select=c(Age,Sex,Job,Housing,Saving.accounts,Checking.account,Credit.amount,Duration,Purpose))\n",
    "    cl <- gcdata$Credit.Risks.Label[training]\n",
    "    true.labels<-gcdata.df$Credit.Risks.Label[testing]\n",
    "    #compute and print misclassification rate\n",
    "    for(j in 1:20) {\n",
    "      predicted.labels <- knn(train,test,cl,j)\n",
    "      incorrect.labels<-sum(predicted.labels !=true.labels)\n",
    "      misclassification.rate<-incorrect.labels/test.labels\n",
    "      misclassificationRate[j,i]<-(misclassification.rate)\n",
    "    }\n",
    "}"
   ]
  },
  {
   "cell_type": "code",
   "execution_count": 7,
   "metadata": {
    "collapsed": false
   },
   "outputs": [
    {
     "data": {
      "text/html": [
       "<table>\n",
       "<thead><tr><th scope=col>Sampling Rate - 90%</th><th scope=col>Sampling Rate - 80%</th><th scope=col>Sampling Rate - 70%</th><th scope=col>Sampling Rate - 60%</th><th scope=col>Sampling Rate - 50%</th></tr></thead>\n",
       "<tbody>\n",
       "\t<tr><td>0.33     </td><td>0.335    </td><td>0.3733333</td><td>0.3600   </td><td>0.322    </td></tr>\n",
       "\t<tr><td>0.31     </td><td>0.315    </td><td>0.3366667</td><td>0.3675   </td><td>0.318    </td></tr>\n",
       "\t<tr><td>0.27     </td><td>0.330    </td><td>0.3400000</td><td>0.3350   </td><td>0.310    </td></tr>\n",
       "\t<tr><td>0.29     </td><td>0.345    </td><td>0.3300000</td><td>0.3450   </td><td>0.324    </td></tr>\n",
       "\t<tr><td>0.26     </td><td>0.300    </td><td>0.3400000</td><td>0.3200   </td><td>0.298    </td></tr>\n",
       "\t<tr><td>0.30     </td><td>0.340    </td><td>0.3233333</td><td>0.3275   </td><td>0.304    </td></tr>\n",
       "\t<tr><td>0.28     </td><td>0.270    </td><td>0.3133333</td><td>0.3250   </td><td>0.306    </td></tr>\n",
       "\t<tr><td>0.27     </td><td>0.305    </td><td>0.3033333</td><td>0.3000   </td><td>0.290    </td></tr>\n",
       "\t<tr><td>0.28     </td><td>0.275    </td><td>0.3066667</td><td>0.3025   </td><td>0.300    </td></tr>\n",
       "\t<tr><td>0.30     </td><td>0.265    </td><td>0.3200000</td><td>0.2875   </td><td>0.308    </td></tr>\n",
       "\t<tr><td>0.35     </td><td>0.280    </td><td>0.2933333</td><td>0.2825   </td><td>0.300    </td></tr>\n",
       "\t<tr><td>0.33     </td><td>0.285    </td><td>0.3033333</td><td>0.2825   </td><td>0.298    </td></tr>\n",
       "\t<tr><td>0.33     </td><td>0.280    </td><td>0.3033333</td><td>0.2725   </td><td>0.292    </td></tr>\n",
       "\t<tr><td>0.35     </td><td>0.260    </td><td>0.2966667</td><td>0.2625   </td><td>0.284    </td></tr>\n",
       "\t<tr><td>0.32     </td><td>0.270    </td><td>0.3033333</td><td>0.2675   </td><td>0.288    </td></tr>\n",
       "\t<tr><td>0.27     </td><td>0.290    </td><td>0.2833333</td><td>0.2675   </td><td>0.298    </td></tr>\n",
       "\t<tr><td>0.29     </td><td>0.285    </td><td>0.2900000</td><td>0.2650   </td><td>0.294    </td></tr>\n",
       "\t<tr><td>0.30     </td><td>0.285    </td><td>0.2833333</td><td>0.2625   </td><td>0.298    </td></tr>\n",
       "\t<tr><td>0.29     </td><td>0.275    </td><td>0.2933333</td><td>0.2675   </td><td>0.284    </td></tr>\n",
       "\t<tr><td>0.29     </td><td>0.285    </td><td>0.2966667</td><td>0.2700   </td><td>0.284    </td></tr>\n",
       "</tbody>\n",
       "</table>\n"
      ],
      "text/latex": [
       "\\begin{tabular}{r|lllll}\n",
       " Sampling Rate - 90\\% & Sampling Rate - 80\\% & Sampling Rate - 70\\% & Sampling Rate - 60\\% & Sampling Rate - 50\\%\\\\\n",
       "\\hline\n",
       "\t 0.33      & 0.335     & 0.3733333 & 0.3600    & 0.322    \\\\\n",
       "\t 0.31      & 0.315     & 0.3366667 & 0.3675    & 0.318    \\\\\n",
       "\t 0.27      & 0.330     & 0.3400000 & 0.3350    & 0.310    \\\\\n",
       "\t 0.29      & 0.345     & 0.3300000 & 0.3450    & 0.324    \\\\\n",
       "\t 0.26      & 0.300     & 0.3400000 & 0.3200    & 0.298    \\\\\n",
       "\t 0.30      & 0.340     & 0.3233333 & 0.3275    & 0.304    \\\\\n",
       "\t 0.28      & 0.270     & 0.3133333 & 0.3250    & 0.306    \\\\\n",
       "\t 0.27      & 0.305     & 0.3033333 & 0.3000    & 0.290    \\\\\n",
       "\t 0.28      & 0.275     & 0.3066667 & 0.3025    & 0.300    \\\\\n",
       "\t 0.30      & 0.265     & 0.3200000 & 0.2875    & 0.308    \\\\\n",
       "\t 0.35      & 0.280     & 0.2933333 & 0.2825    & 0.300    \\\\\n",
       "\t 0.33      & 0.285     & 0.3033333 & 0.2825    & 0.298    \\\\\n",
       "\t 0.33      & 0.280     & 0.3033333 & 0.2725    & 0.292    \\\\\n",
       "\t 0.35      & 0.260     & 0.2966667 & 0.2625    & 0.284    \\\\\n",
       "\t 0.32      & 0.270     & 0.3033333 & 0.2675    & 0.288    \\\\\n",
       "\t 0.27      & 0.290     & 0.2833333 & 0.2675    & 0.298    \\\\\n",
       "\t 0.29      & 0.285     & 0.2900000 & 0.2650    & 0.294    \\\\\n",
       "\t 0.30      & 0.285     & 0.2833333 & 0.2625    & 0.298    \\\\\n",
       "\t 0.29      & 0.275     & 0.2933333 & 0.2675    & 0.284    \\\\\n",
       "\t 0.29      & 0.285     & 0.2966667 & 0.2700    & 0.284    \\\\\n",
       "\\end{tabular}\n"
      ],
      "text/markdown": [
       "\n",
       "Sampling Rate - 90% | Sampling Rate - 80% | Sampling Rate - 70% | Sampling Rate - 60% | Sampling Rate - 50% | \n",
       "|---|---|---|---|---|---|---|---|---|---|---|---|---|---|---|---|---|---|---|---|\n",
       "| 0.33      | 0.335     | 0.3733333 | 0.3600    | 0.322     | \n",
       "| 0.31      | 0.315     | 0.3366667 | 0.3675    | 0.318     | \n",
       "| 0.27      | 0.330     | 0.3400000 | 0.3350    | 0.310     | \n",
       "| 0.29      | 0.345     | 0.3300000 | 0.3450    | 0.324     | \n",
       "| 0.26      | 0.300     | 0.3400000 | 0.3200    | 0.298     | \n",
       "| 0.30      | 0.340     | 0.3233333 | 0.3275    | 0.304     | \n",
       "| 0.28      | 0.270     | 0.3133333 | 0.3250    | 0.306     | \n",
       "| 0.27      | 0.305     | 0.3033333 | 0.3000    | 0.290     | \n",
       "| 0.28      | 0.275     | 0.3066667 | 0.3025    | 0.300     | \n",
       "| 0.30      | 0.265     | 0.3200000 | 0.2875    | 0.308     | \n",
       "| 0.35      | 0.280     | 0.2933333 | 0.2825    | 0.300     | \n",
       "| 0.33      | 0.285     | 0.3033333 | 0.2825    | 0.298     | \n",
       "| 0.33      | 0.280     | 0.3033333 | 0.2725    | 0.292     | \n",
       "| 0.35      | 0.260     | 0.2966667 | 0.2625    | 0.284     | \n",
       "| 0.32      | 0.270     | 0.3033333 | 0.2675    | 0.288     | \n",
       "| 0.27      | 0.290     | 0.2833333 | 0.2675    | 0.298     | \n",
       "| 0.29      | 0.285     | 0.2900000 | 0.2650    | 0.294     | \n",
       "| 0.30      | 0.285     | 0.2833333 | 0.2625    | 0.298     | \n",
       "| 0.29      | 0.275     | 0.2933333 | 0.2675    | 0.284     | \n",
       "| 0.29      | 0.285     | 0.2966667 | 0.2700    | 0.284     | \n",
       "\n",
       "\n"
      ],
      "text/plain": [
       "   Sampling Rate - 90% Sampling Rate - 80% Sampling Rate - 70%\n",
       "1  0.33                0.335               0.3733333          \n",
       "2  0.31                0.315               0.3366667          \n",
       "3  0.27                0.330               0.3400000          \n",
       "4  0.29                0.345               0.3300000          \n",
       "5  0.26                0.300               0.3400000          \n",
       "6  0.30                0.340               0.3233333          \n",
       "7  0.28                0.270               0.3133333          \n",
       "8  0.27                0.305               0.3033333          \n",
       "9  0.28                0.275               0.3066667          \n",
       "10 0.30                0.265               0.3200000          \n",
       "11 0.35                0.280               0.2933333          \n",
       "12 0.33                0.285               0.3033333          \n",
       "13 0.33                0.280               0.3033333          \n",
       "14 0.35                0.260               0.2966667          \n",
       "15 0.32                0.270               0.3033333          \n",
       "16 0.27                0.290               0.2833333          \n",
       "17 0.29                0.285               0.2900000          \n",
       "18 0.30                0.285               0.2833333          \n",
       "19 0.29                0.275               0.2933333          \n",
       "20 0.29                0.285               0.2966667          \n",
       "   Sampling Rate - 60% Sampling Rate - 50%\n",
       "1  0.3600              0.322              \n",
       "2  0.3675              0.318              \n",
       "3  0.3350              0.310              \n",
       "4  0.3450              0.324              \n",
       "5  0.3200              0.298              \n",
       "6  0.3275              0.304              \n",
       "7  0.3250              0.306              \n",
       "8  0.3000              0.290              \n",
       "9  0.3025              0.300              \n",
       "10 0.2875              0.308              \n",
       "11 0.2825              0.300              \n",
       "12 0.2825              0.298              \n",
       "13 0.2725              0.292              \n",
       "14 0.2625              0.284              \n",
       "15 0.2675              0.288              \n",
       "16 0.2675              0.298              \n",
       "17 0.2650              0.294              \n",
       "18 0.2625              0.298              \n",
       "19 0.2675              0.284              \n",
       "20 0.2700              0.284              "
      ]
     },
     "metadata": {},
     "output_type": "display_data"
    }
   ],
   "source": [
    "misclassificationRate.df <- as.data.frame(misclassificationRate)\n",
    "names(misclassificationRate.df)<- c(\"Sampling Rate - 90%\",\"Sampling Rate - 80%\",\"Sampling Rate - 70%\",\"Sampling Rate - 60%\", \"Sampling Rate - 50%\")\n",
    "misclassificationRate.df"
   ]
  },
  {
   "cell_type": "code",
   "execution_count": 8,
   "metadata": {
    "collapsed": false
   },
   "outputs": [
    {
     "data": {
      "text/html": [
       "<ol class=list-inline>\n",
       "\t<li>5</li>\n",
       "\t<li>14</li>\n",
       "\t<li>16</li>\n",
       "\t<li>14</li>\n",
       "\t<li>14</li>\n",
       "</ol>\n"
      ],
      "text/latex": [
       "\\begin{enumerate*}\n",
       "\\item 5\n",
       "\\item 14\n",
       "\\item 16\n",
       "\\item 14\n",
       "\\item 14\n",
       "\\end{enumerate*}\n"
      ],
      "text/markdown": [
       "1. 5\n",
       "2. 14\n",
       "3. 16\n",
       "4. 14\n",
       "5. 14\n",
       "\n",
       "\n"
      ],
      "text/plain": [
       "[1]  5 14 16 14 14"
      ]
     },
     "metadata": {},
     "output_type": "display_data"
    }
   ],
   "source": [
    "#minimum classification rate k values\n",
    "minByCol <- apply(misclassificationRate, MARGIN=2, FUN=which.min)\n",
    "minByCol"
   ]
  },
  {
   "cell_type": "markdown",
   "metadata": {},
   "source": [
    "### 90% Sampling rate - Minimum misclassification rate is when k = 13\n",
    "### 80% Sampling rate - Minimum misclassification rate is when k = 5\n",
    "### 70% Sampling rate - Minimum misclassification rate is when k = 9\n",
    "### 60% Sampling rate - Minimum misclassification rate is when k = 8\n",
    "### 50% Sampling rate - Minimum misclassification rate is when k = 12"
   ]
  }
 ],
 "metadata": {
  "kernelspec": {
   "display_name": "R",
   "language": "R",
   "name": "ir"
  },
  "language_info": {
   "codemirror_mode": "r",
   "file_extension": ".r",
   "mimetype": "text/x-r-source",
   "name": "R",
   "pygments_lexer": "r",
   "version": "3.3.2"
  }
 },
 "nbformat": 4,
 "nbformat_minor": 2
}
